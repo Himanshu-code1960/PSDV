{
 "cells": [
  {
   "cell_type": "markdown",
   "id": "f19c39dd-3eb1-4d46-8531-8652ef1688c3",
   "metadata": {},
   "source": [
    "# 1.List Operations and Basic Statistics:"
   ]
  },
  {
   "cell_type": "markdown",
   "id": "8ac0d1b1-1825-44fe-a947-a8ca6ea6b9bb",
   "metadata": {},
   "source": [
    "**Create a list of the first 20 natural numbers.**"
   ]
  },
  {
   "cell_type": "code",
   "execution_count": 4,
   "id": "c35293e2-fadd-4508-a2fa-ef65f1d303bd",
   "metadata": {},
   "outputs": [
    {
     "name": "stdout",
     "output_type": "stream",
     "text": [
      "[1, 2, 3, 4, 5, 6, 7, 8, 9, 10, 11, 12, 13, 14, 15, 16, 17, 18, 19, 20]\n"
     ]
    }
   ],
   "source": [
    "mylist = list()\n",
    "for i in range(1,21):\n",
    "    mylist.append(i)\n",
    "print(mylist)"
   ]
  },
  {
   "cell_type": "markdown",
   "id": "e3e1f6fb-a2d6-4f39-a821-299a10804508",
   "metadata": {},
   "source": [
    "**Compute the sum of all even numbers in the list.**"
   ]
  },
  {
   "cell_type": "code",
   "execution_count": 6,
   "id": "064d25e3-bbc8-40fb-a92d-6efb30b74f0f",
   "metadata": {},
   "outputs": [
    {
     "name": "stdout",
     "output_type": "stream",
     "text": [
      "110\n"
     ]
    }
   ],
   "source": [
    "sum = 0\n",
    "for i in range(1,21):\n",
    "    if i%2 == 0 :\n",
    "        sum = sum + i\n",
    "print(sum)"
   ]
  },
  {
   "cell_type": "markdown",
   "id": "3ceba533-2eac-4c36-b1b6-6d60ff3e5a88",
   "metadata": {},
   "source": [
    "**Compute the product of all odd numbers in the list.**"
   ]
  },
  {
   "cell_type": "code",
   "execution_count": 8,
   "id": "e05796af-0fc8-4b60-b506-0880fd00bbe7",
   "metadata": {},
   "outputs": [
    {
     "name": "stdout",
     "output_type": "stream",
     "text": [
      "654729075\n"
     ]
    }
   ],
   "source": [
    "product = 1\n",
    "for i in range(1,21):\n",
    "    if i%2 == 1:\n",
    "        product = product * i\n",
    "print(product)"
   ]
  },
  {
   "cell_type": "markdown",
   "id": "5d78f847-e21f-493e-a57d-0e29554c82bf",
   "metadata": {},
   "source": [
    "**Calculate the mean, median, and standard deviation of the list.**"
   ]
  },
  {
   "cell_type": "code",
   "execution_count": 10,
   "id": "fb4d311b-0e8f-4e0c-ab87-bc0d9bb51b69",
   "metadata": {},
   "outputs": [
    {
     "name": "stdout",
     "output_type": "stream",
     "text": [
      "Mean: 10.5\n",
      "Median: 10.5\n",
      "Standard Deviation: 5.916079783099616\n"
     ]
    }
   ],
   "source": [
    "import statistics\n",
    "\n",
    "mean = statistics.mean(mylist)\n",
    "median = statistics.median(mylist)\n",
    "std_dev = statistics.stdev(mylist)\n",
    "\n",
    "print(\"Mean:\", mean)\n",
    "print(\"Median:\", median)\n",
    "print(\"Standard Deviation:\", std_dev)\n"
   ]
  },
  {
   "cell_type": "markdown",
   "id": "10125f0b-3dec-40d4-b7a6-d12766572f95",
   "metadata": {},
   "source": [
    "# 2.Mutable vs. Immutable Data Types: "
   ]
  },
  {
   "cell_type": "markdown",
   "id": "c0ad2831-6f48-4d39-8d3f-a319e0e76542",
   "metadata": {},
   "source": [
    "**Explain the difference between mutable and immutable data types in Python. Provide examples of each.**"
   ]
  },
  {
   "cell_type": "markdown",
   "id": "84631495-4f01-4c61-9b63-a14786060f13",
   "metadata": {},
   "source": [
    "Mutable Data Type: Data types whose values can be changed after declaring them in a variable. Example: List, Dictionary, etc.\n"
   ]
  },
  {
   "cell_type": "markdown",
   "id": "c4ba23e4-47bb-438e-8f34-496b00d2efe2",
   "metadata": {},
   "source": [
    "Immutable Data type: Data types whose values can not be changed after declaring them in a variable, But we can perform any operation on them and store that changed value in a new variable. Example: Tuple, String, etc."
   ]
  },
  {
   "cell_type": "code",
   "execution_count": 30,
   "id": "272d3712-56b1-46e8-9f78-57559487d645",
   "metadata": {},
   "outputs": [
    {
     "name": "stdout",
     "output_type": "stream",
     "text": [
      "Modified list = [1, 10, 3, 4, 5]\n"
     ]
    }
   ],
   "source": [
    "original_list=[1,2,3,4,5]\n",
    "original_list[1]=10 \n",
    "print(f\"Modified list = {original_list}\")"
   ]
  },
  {
   "cell_type": "code",
   "execution_count": 32,
   "id": "e78abc86-e6a3-44b8-aa93-2c59e734ffab",
   "metadata": {},
   "outputs": [
    {
     "name": "stdout",
     "output_type": "stream",
     "text": [
      "My name is Himanshu.\n"
     ]
    }
   ],
   "source": [
    "org_str=\"My name is \"\n",
    "new_str= org_str + \"Himanshu.\"\n",
    "print(new_str)\n"
   ]
  },
  {
   "cell_type": "markdown",
   "id": "0d3d474a-3eef-48af-8ae4-373c5e573837",
   "metadata": {},
   "source": [
    "# 3.Fibonacci Sequence:"
   ]
  },
  {
   "cell_type": "markdown",
   "id": "c4db3949-7b71-47a1-8b8b-c90a43046f9c",
   "metadata": {},
   "source": [
    "**Write a Python function that takes a number n and returns a list of the first n Fibonacci numbers.**"
   ]
  },
  {
   "cell_type": "code",
   "execution_count": 38,
   "id": "dec5bc9e-f3ff-4bc5-aa15-a11c1f657343",
   "metadata": {},
   "outputs": [
    {
     "name": "stdin",
     "output_type": "stream",
     "text": [
      " 6\n"
     ]
    },
    {
     "name": "stdout",
     "output_type": "stream",
     "text": [
      "[0, 1, 1, 2, 3, 5]\n"
     ]
    }
   ],
   "source": [
    "n=int(input())\n",
    "fibonacci_sequence=[0,1]\n",
    "for i in range(2,n) :\n",
    "    fibonacci_sequence.append(fibonacci_sequence[-1] + fibonacci_sequence[-2])\n",
    "print(fibonacci_sequence)"
   ]
  },
  {
   "cell_type": "markdown",
   "id": "52a8d6ee-8d4f-489a-b08a-0bce1221aa65",
   "metadata": {},
   "source": [
    "# 4.List Manipulation:"
   ]
  },
  {
   "cell_type": "markdown",
   "id": "a36c19ed-fdc5-4e38-8626-a57af8decd48",
   "metadata": {},
   "source": [
    "**Insert 6 at the 3rd index.**"
   ]
  },
  {
   "cell_type": "code",
   "execution_count": 13,
   "id": "4255f5f3-dd78-436c-8281-332f0be542d8",
   "metadata": {},
   "outputs": [
    {
     "name": "stdout",
     "output_type": "stream",
     "text": [
      "[3, 5, 7, 6, 9, 11, 13]\n"
     ]
    }
   ],
   "source": [
    "list = [3,5,7,9,11,13]\n",
    "list.insert(3, 6)\n",
    "print(list)"
   ]
  },
  {
   "cell_type": "markdown",
   "id": "54601410-4999-48ff-828f-d16cda62c02e",
   "metadata": {},
   "source": [
    "**Remove the number 7 from the list.**"
   ]
  },
  {
   "cell_type": "code",
   "execution_count": 15,
   "id": "572c80ff-0fcb-42f1-a6d6-60b1e815e771",
   "metadata": {},
   "outputs": [
    {
     "name": "stdout",
     "output_type": "stream",
     "text": [
      "[3, 5, 6, 9, 11, 13]\n"
     ]
    }
   ],
   "source": [
    "list.remove(7)\n",
    "print(list)"
   ]
  },
  {
   "cell_type": "markdown",
   "id": "9f5e557d-d37e-434d-bab2-0b46ea1f2ee8",
   "metadata": {},
   "source": [
    "**Reverse the list.**"
   ]
  },
  {
   "cell_type": "code",
   "execution_count": 17,
   "id": "3f8c5c07-1ed1-44d2-908f-4b58ab71102e",
   "metadata": {},
   "outputs": [
    {
     "name": "stdout",
     "output_type": "stream",
     "text": [
      "[3, 5, 6, 6, 5, 3]\n"
     ]
    }
   ],
   "source": [
    "for i in range(0,6):\n",
    "    list[5-i] = list[i]\n",
    "print(list)"
   ]
  },
  {
   "cell_type": "markdown",
   "id": "f30c925a-dac6-492b-82d3-e8ecda42a39b",
   "metadata": {},
   "source": [
    "# 5.User Input and Basic Statistics:"
   ]
  },
  {
   "cell_type": "markdown",
   "id": "e28bf6cb-56ed-4fa5-9ade-e8bf130cf895",
   "metadata": {},
   "source": [
    "**Write a program to read a comma-separated list of numbers from the user (e.g., “10, 20, 30, 40”).**"
   ]
  },
  {
   "cell_type": "code",
   "execution_count": 20,
   "id": "1a782464-0f0f-4947-b9af-0ad724a63cec",
   "metadata": {},
   "outputs": [
    {
     "name": "stdin",
     "output_type": "stream",
     "text": [
      " 6,1,2,0,8,9,5\n"
     ]
    },
    {
     "name": "stdout",
     "output_type": "stream",
     "text": [
      "[6, 1, 2, 0, 8, 9, 5]\n"
     ]
    }
   ],
   "source": [
    "q5_list = input()\n",
    "q5a_list=q5_list.split(\",\")\n",
    "for i in range(len(q5a_list)):\n",
    "    q5a_list[i]=int(q5a_list[i])\n",
    "print(q5a_list)"
   ]
  },
  {
   "cell_type": "markdown",
   "id": "30b8ab11-bf25-4e69-81d4-463cc98d46f5",
   "metadata": {},
   "source": [
    "**Calculate the mean of the numbers.**"
   ]
  },
  {
   "cell_type": "code",
   "execution_count": 22,
   "id": "7c52adfe-b111-45f2-81fd-4de1dc9868dd",
   "metadata": {},
   "outputs": [
    {
     "name": "stdout",
     "output_type": "stream",
     "text": [
      "Mean: 4.428571428571429\n"
     ]
    }
   ],
   "source": [
    "import statistics\n",
    "mean= statistics.mean(q5a_list)\n",
    "print(\"Mean:\", mean)"
   ]
  },
  {
   "cell_type": "markdown",
   "id": "bd963178-9d52-4862-9fe1-18a89d2f345e",
   "metadata": {},
   "source": [
    "**Identify and print the smallest and largest numbers.**"
   ]
  },
  {
   "cell_type": "code",
   "execution_count": 27,
   "id": "4f296e3c-12c3-4f27-8ad0-95015e318c1b",
   "metadata": {},
   "outputs": [
    {
     "name": "stdout",
     "output_type": "stream",
     "text": [
      "Largest number is 9\n",
      "Smallest number is 0\n"
     ]
    }
   ],
   "source": [
    "max_num=q5a_list[0]\n",
    "min_num=q5a_list[0]\n",
    "for i in q5a_list:\n",
    "    if i > max_num:\n",
    "        max_num = i\n",
    "    if i< min_num:\n",
    "        min_num = i\n",
    "\n",
    "print(f\"Largest number is {max_num}\")\n",
    "print(f\"Smallest number is {min_num}\")\n",
    "        "
   ]
  },
  {
   "cell_type": "markdown",
   "id": "8f37c278-7c8b-4a94-a550-de703c7f7875",
   "metadata": {},
   "source": [
    "**Plot a histogram of the numbers.**"
   ]
  },
  {
   "cell_type": "code",
   "execution_count": 29,
   "id": "ec4e1ac2-ab66-4bb0-8d74-4f46f9b2e135",
   "metadata": {},
   "outputs": [
    {
     "data": {
      "image/png": "[encoded data removed]",
      "text/plain": [
       "<Figure size 640x480 with 1 Axes>"
      ]
     },
     "metadata": {},
     "output_type": "display_data"
    }
   ],
   "source": [
    "import matplotlib.pyplot as plt\n",
    "\n",
    "plt.hist(q5a_list, bins=5, color='red', edgecolor='black')\n",
    "\n",
    "plt.title(\"Histogram Example\")\n",
    "plt.xlabel(\"Value Range\")\n",
    "plt.ylabel(\"Frequency\")\n",
    "\n",
    "plt.show()\n"
   ]
  },
  {
   "cell_type": "markdown",
   "id": "f5134b7b-03bf-4cfc-a87f-9db4de909678",
   "metadata": {},
   "source": [
    "# 6.Palindrome Check:"
   ]
  },
  {
   "cell_type": "markdown",
   "id": "76223541-4216-467c-a95a-9601b47b4d76",
   "metadata": {},
   "source": [
    "**Write a program to check if a string is a palindrome (ignoring spaces and case).**"
   ]
  },
  {
   "cell_type": "code",
   "execution_count": 16,
   "id": "cebd669b-747f-4c37-8f4d-b5ac200ffa47",
   "metadata": {},
   "outputs": [
    {
     "name": "stdout",
     "output_type": "stream",
     "text": [
      "True\n"
     ]
    }
   ],
   "source": [
    "a_str=\"A man a plan a canal Panama\"\n",
    "aa_str=a_str.replace(\" \",\"\").lower()\n",
    "if aa_str == aa_str[::-1]:\n",
    "    print(True)\n",
    "else:\n",
    "    print(False)"
   ]
  },
  {
   "cell_type": "markdown",
   "id": "689961bd-c1e0-4444-879a-ca8685fff3b6",
   "metadata": {},
   "source": [
    "# 7.Dictionary Operations:"
   ]
  },
  {
   "cell_type": "markdown",
   "id": "5e677170-c875-4cfe-83ea-53f5ce8fe2f6",
   "metadata": {},
   "source": [
    "**Create a dictionary of student names (keys) and their marks (values).**"
   ]
  },
  {
   "cell_type": "code",
   "execution_count": 3,
   "id": "0c9f849c-1516-498f-ae14-4d5cbd4ddd4d",
   "metadata": {},
   "outputs": [
    {
     "name": "stdout",
     "output_type": "stream",
     "text": [
      "{'ram': 2, 'shyam': 4, 'mohan': 7, 'sachin': 8, 'Tanuj': 9}\n"
     ]
    }
   ],
   "source": [
    "a_dict={\n",
    "    \"ram\":2,\n",
    "    \"shyam\":4,\n",
    "    \"mohan\":7,\n",
    "    \"sachin\":8,\n",
    "    \"Tanuj\":9\n",
    "}\n",
    "studentname=a_dict.keys()\n",
    "marks=a_dict.values()\n",
    "print(a_dict)\n"
   ]
  },
  {
   "cell_type": "markdown",
   "id": "08a14e68-5339-4b5c-b592-b56111acd04c",
   "metadata": {},
   "source": [
    "**Compute the average marks.**"
   ]
  },
  {
   "cell_type": "code",
   "execution_count": 6,
   "id": "e119c612-283d-4352-87f8-5457570d04b9",
   "metadata": {},
   "outputs": [
    {
     "name": "stdout",
     "output_type": "stream",
     "text": [
      "Average marks:  6.0\n"
     ]
    }
   ],
   "source": [
    "sum=0\n",
    "for i in a_dict.values():\n",
    "    sum=sum+i\n",
    "    count=len(a_dict)\n",
    "avg_marks=sum/count\n",
    "print(\"Average marks: \",avg_marks)"
   ]
  },
  {
   "cell_type": "markdown",
   "id": "15321822-48c3-4680-bb55-5999a4fa42b8",
   "metadata": {},
   "source": [
    "**Print the names of students scoring above the average.**"
   ]
  },
  {
   "cell_type": "code",
   "execution_count": 15,
   "id": "bbe32fe8-e062-4f3f-8aaa-d2ccd094aba7",
   "metadata": {},
   "outputs": [
    {
     "name": "stdout",
     "output_type": "stream",
     "text": [
      "mohan\n",
      "sachin\n",
      "Tanuj\n"
     ]
    }
   ],
   "source": [
    "for i in a_dict:\n",
    "    if a_dict[i] > avg_marks:\n",
    "        print(i)"
   ]
  },
  {
   "cell_type": "markdown",
   "id": "0530c4eb-c110-4527-bbf4-1c1c6e7d67ba",
   "metadata": {},
   "source": [
    "**Visualize the distribution of marks using a bar chart.**"
   ]
  },
  {
   "cell_type": "code",
   "execution_count": 22,
   "id": "d5e24319-2d50-4e58-a516-a3f8dd2a965a",
   "metadata": {},
   "outputs": [
    {
     "data": {
      "image/png": "[encoded data removed]",
      "text/plain": [
       "<Figure size 640x480 with 1 Axes>"
      ]
     },
     "metadata": {},
     "output_type": "display_data"
    }
   ],
   "source": [
    "import matplotlib.pyplot as plt\n",
    "plt.bar(studentname, marks, color='skyblue')\n",
    "\n",
    "plt.title('Bar Chart')\n",
    "plt.xlabel('studentname')\n",
    "plt.ylabel('marks')\n",
    "\n",
    "plt.show()"
   ]
  },
  {
   "cell_type": "markdown",
   "id": "8da723a9-52e8-4b9e-9620-094f9ce6a8aa",
   "metadata": {},
   "source": [
    "# 8.Tuple List Creation:"
   ]
  },
  {
   "cell_type": "markdown",
   "id": "cc469f1e-0809-4aa0-9192-d0604dc3cf9f",
   "metadata": {},
   "source": [
    "**Create a list of tuples, where each tuple contains a number and its square (e.g., [(1, 1), (2, 4), (3, 9), ...] for numbers 1 to 10).**"
   ]
  },
  {
   "cell_type": "code",
   "execution_count": 59,
   "id": "e6fcba29-20c2-408b-9d85-b253e423c7a8",
   "metadata": {},
   "outputs": [
    {
     "name": "stdout",
     "output_type": "stream",
     "text": [
      "[(1, 1), (2, 4), (3, 9), (4, 16), (5, 25), (6, 36), (7, 49), (8, 64), (9, 81), (10, 100)]\n"
     ]
    }
   ],
   "source": [
    "eight_list=list()\n",
    "for i in range(1,11):\n",
    "    num_tuple=(i, i*i)\n",
    "    eight_list.append(num_tuple)\n",
    "print(eight_list)\n",
    "    "
   ]
  },
  {
   "cell_type": "markdown",
   "id": "e9d3af90-5f40-43a0-9f47-698818b19bfb",
   "metadata": {},
   "source": [
    "**Plot the numbers and their squares on a scatter plot.**"
   ]
  },
  {
   "cell_type": "code",
   "execution_count": 65,
   "id": "26d957f6-7fb6-4d96-8b1d-dff89cf85c48",
   "metadata": {},
   "outputs": [
    {
     "data": {
      "image/png": "[encoded data removed]",
      "text/plain": [
       "<Figure size 640x480 with 1 Axes>"
      ]
     },
     "metadata": {},
     "output_type": "display_data"
    }
   ],
   "source": [
    "import matplotlib.pyplot as plt\n",
    "\n",
    "number=[num for num,sqr in eight_list]\n",
    "square= [sqr for num,sqr in eight_list]\n",
    "plt.scatter(number,square)\n",
    "plt.title('Scatter plot')\n",
    "plt.xlabel('numbers')\n",
    "plt.ylabel('squares')\n",
    "plt.show()\n",
    "\n"
   ]
  },
  {
   "cell_type": "markdown",
   "id": "35179f46-1edf-4775-a6f7-f5dd0f40ea30",
   "metadata": {},
   "source": [
    "# 17.File Operations:"
   ]
  },
  {
   "cell_type": "markdown",
   "id": "42e4bd2d-f8d1-4e60-956f-5e7ace59b306",
   "metadata": {},
   "source": [
    "**Write Python code to Create a text file.**"
   ]
  },
  {
   "cell_type": "code",
   "execution_count": 127,
   "id": "53f574d2-8a67-46bd-8c21-f7c7cbd5cffb",
   "metadata": {},
   "outputs": [
    {
     "name": "stdout",
     "output_type": "stream",
     "text": [
      "9\n",
      "5\n",
      "10\n",
      "70\n",
      "7\n",
      "60\n",
      "43\n",
      "5\n",
      "59\n",
      "54\n",
      "72\n",
      "29\n",
      "38\n",
      "39\n",
      "94\n",
      "\n",
      "Sum of Numbers:  594\n"
     ]
    }
   ],
   "source": [
    "import random\n",
    "\n",
    "fhand=open('new.txt', 'w')\n",
    "rand_list=[random.randint(1,100) for _ in range(15)]\n",
    "for i in rand_list:\n",
    "    fhand.write(f\"{i}\\n\")\n",
    "fhand.close()\n",
    "fhand=open('new.txt', 'r')\n",
    "file_content=fhand.read()\n",
    "print(file_content)\n",
    "fhand=open('new.txt','r')\n",
    "f_sum=0\n",
    "for line in fhand:\n",
    "    f_sum= f_sum + int(line.strip())\n",
    "print(\"Sum of Numbers: \",f_sum)"
   ]
  },
  {
   "cell_type": "code",
   "execution_count": null,
   "id": "1f3e753d-8fb4-445f-8b27-fd527ec9d212",
   "metadata": {},
   "outputs": [],
   "source": []
  },
  {
   "cell_type": "markdown",
   "id": "831dd3df-0da1-4d64-83b2-28170b5433ff",
   "metadata": {},
   "source": [
    "# 23.Even or Odd:"
   ]
  },
  {
   "cell_type": "markdown",
   "id": "106f1b8d-1494-4a57-a78a-a72c0b187d02",
   "metadata": {},
   "source": [
    "**Write a Python program that takes an integer input from the user and prints whether the number is even or odd.**"
   ]
  },
  {
   "cell_type": "code",
   "execution_count": null,
   "id": "bd7f3ba7-4391-4dc8-ba65-0285a45818f7",
   "metadata": {},
   "outputs": [],
   "source": [
    "num= int(input())\n",
    "if num%2 == 0 :\n",
    "    print(\"This number is\", \"even\")\n",
    "else:\n",
    "    print(\"This number is\", \"odd\")"
   ]
  },
  {
   "cell_type": "markdown",
   "id": "19016089-1bce-4724-a165-f9209e4c04ea",
   "metadata": {},
   "source": [
    "# 24.Grade Calculator:"
   ]
  },
  {
   "cell_type": "markdown",
   "id": "e68e6209-9973-4349-a701-a9875f515622",
   "metadata": {},
   "source": [
    "**Write a Python program that takes a numerical grade (0-100) as input and prints the corresponding letter grade (A, B, C, D, F).**\n"
   ]
  },
  {
   "cell_type": "code",
   "execution_count": null,
   "id": "f4f1ef36-269f-49fc-aaa3-ee3fc3066fb5",
   "metadata": {},
   "outputs": [],
   "source": [
    "num_grade=int(input())\n",
    "print(\n",
    "    \"A\"\n",
    "    if num_grade > 85\n",
    "    else \"B\"\n",
    "    if 75< num_grade <=85\n",
    "    else \"C\"\n",
    "    if 65< num_grade <=75\n",
    "    else \"D\"\n",
    "    if 55< num_grade <=65\n",
    "    else \"F\"\n",
    ")"
   ]
  },
  {
   "cell_type": "markdown",
   "id": "a8bc1424-e819-493d-85b5-d418c34ceaca",
   "metadata": {},
   "source": [
    "# 25.Leap Year Checker:"
   ]
  },
  {
   "cell_type": "markdown",
   "id": "f3cd3a7f-91a2-45df-ab05-558a96138488",
   "metadata": {},
   "source": [
    "**Write a Python program that takes a year as input and checks if it is a leap year.**"
   ]
  },
  {
   "cell_type": "code",
   "execution_count": null,
   "id": "f26d263f-089c-43f0-a181-6b2a9f3c1271",
   "metadata": {},
   "outputs": [],
   "source": [
    "year = int(input())\n",
    "print(\n",
    "    f\"{year} is a leap year.\"\n",
    "    if (year % 4 == 0 and year % 100 != 0) or (year % 400 == 0)\n",
    "    else f\"{year} is not a leap year.\"\n",
    ")"
   ]
  },
  {
   "cell_type": "code",
   "execution_count": null,
   "id": "4601c558-097e-4270-9fa3-108da938b234",
   "metadata": {},
   "outputs": [],
   "source": []
  }
 ],
 "metadata": {
  "kernelspec": {
   "display_name": "Python 3 (ipykernel)",
   "language": "python",
   "name": "python3"
  },
  "language_info": {
   "codemirror_mode": {
    "name": "ipython",
    "version": 3
   },
   "file_extension": ".py",
   "mimetype": "text/x-python",
   "name": "python",
   "nbconvert_exporter": "python",
   "pygments_lexer": "ipython3",
   "version": "3.12.7"
  }
 },
 "nbformat": 4,
 "nbformat_minor": 5
}
